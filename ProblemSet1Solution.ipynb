{
 "cells": [
  {
   "cell_type": "markdown",
   "id": "5e1d6247",
   "metadata": {},
   "source": [
    "## Problem Set 1"
   ]
  },
  {
   "cell_type": "markdown",
   "id": "2135ba78",
   "metadata": {},
   "source": [
    "# Question 1:What data type is each of the following (evaluate where necessary)?\n"
   ]
  },
  {
   "cell_type": "code",
   "execution_count": 5,
   "id": "b62628a4",
   "metadata": {},
   "outputs": [
    {
     "data": {
      "text/plain": [
       "int"
      ]
     },
     "execution_count": 5,
     "metadata": {},
     "output_type": "execute_result"
    }
   ],
   "source": [
    "#1\n",
    "x=5\n",
    "type(x)"
   ]
  },
  {
   "cell_type": "code",
   "execution_count": 6,
   "id": "0c6a7630",
   "metadata": {},
   "outputs": [
    {
     "data": {
      "text/plain": [
       "float"
      ]
     },
     "execution_count": 6,
     "metadata": {},
     "output_type": "execute_result"
    }
   ],
   "source": [
    "#2\n",
    "x=5.0\n",
    "type(x)"
   ]
  },
  {
   "cell_type": "code",
   "execution_count": 44,
   "id": "d7bcfcb3",
   "metadata": {},
   "outputs": [
    {
     "data": {
      "text/plain": [
       "bool"
      ]
     },
     "execution_count": 44,
     "metadata": {},
     "output_type": "execute_result"
    }
   ],
   "source": [
    "#3\n",
    "x=5>1\n",
    "type(5>1)"
   ]
  },
  {
   "cell_type": "code",
   "execution_count": 1,
   "id": "dfcad318",
   "metadata": {},
   "outputs": [
    {
     "name": "stdout",
     "output_type": "stream",
     "text": [
      "True\n"
     ]
    }
   ],
   "source": [
    "#3(Evaluating)\n",
    "x=5>1\n",
    "print(x)"
   ]
  },
  {
   "cell_type": "code",
   "execution_count": 12,
   "id": "8791880d",
   "metadata": {},
   "outputs": [
    {
     "data": {
      "text/plain": [
       "str"
      ]
     },
     "execution_count": 12,
     "metadata": {},
     "output_type": "execute_result"
    }
   ],
   "source": [
    "#4\n",
    "x='5'\n",
    "type(x)"
   ]
  },
  {
   "cell_type": "code",
   "execution_count": 45,
   "id": "4c9ec6fa",
   "metadata": {},
   "outputs": [
    {
     "data": {
      "text/plain": [
       "int"
      ]
     },
     "execution_count": 45,
     "metadata": {},
     "output_type": "execute_result"
    }
   ],
   "source": [
    "#5\n",
    "x=5 * 2\n",
    "type(x)"
   ]
  },
  {
   "cell_type": "code",
   "execution_count": 2,
   "id": "a999cb41",
   "metadata": {},
   "outputs": [
    {
     "name": "stdout",
     "output_type": "stream",
     "text": [
      "10\n"
     ]
    }
   ],
   "source": [
    "#5(Evaluating)\n",
    "x=5 * 2\n",
    "print(x)"
   ]
  },
  {
   "cell_type": "code",
   "execution_count": 46,
   "id": "99a105bd",
   "metadata": {},
   "outputs": [
    {
     "data": {
      "text/plain": [
       "str"
      ]
     },
     "execution_count": 46,
     "metadata": {},
     "output_type": "execute_result"
    }
   ],
   "source": [
    "#6\n",
    "x='5' * 2\n",
    "type(x)"
   ]
  },
  {
   "cell_type": "code",
   "execution_count": 47,
   "id": "ec3ea17c",
   "metadata": {},
   "outputs": [
    {
     "data": {
      "text/plain": [
       "str"
      ]
     },
     "execution_count": 47,
     "metadata": {},
     "output_type": "execute_result"
    }
   ],
   "source": [
    "#7\n",
    "x='5' + '2'\n",
    "type(x)"
   ]
  },
  {
   "cell_type": "code",
   "execution_count": 50,
   "id": "cdf3c8c9",
   "metadata": {},
   "outputs": [
    {
     "data": {
      "text/plain": [
       "float"
      ]
     },
     "execution_count": 50,
     "metadata": {},
     "output_type": "execute_result"
    }
   ],
   "source": [
    "#8\n",
    "x=5 / 2\n",
    "type(x)"
   ]
  },
  {
   "cell_type": "code",
   "execution_count": 3,
   "id": "3496b428",
   "metadata": {},
   "outputs": [
    {
     "name": "stdout",
     "output_type": "stream",
     "text": [
      "2.5\n"
     ]
    }
   ],
   "source": [
    "#8(Evaluating)\n",
    "x=5 / 2\n",
    "print(x)"
   ]
  },
  {
   "cell_type": "code",
   "execution_count": 56,
   "id": "9a358255",
   "metadata": {},
   "outputs": [
    {
     "data": {
      "text/plain": [
       "int"
      ]
     },
     "execution_count": 56,
     "metadata": {},
     "output_type": "execute_result"
    }
   ],
   "source": [
    "#9\n",
    "x=5 % 2\n",
    "type(x)"
   ]
  },
  {
   "cell_type": "code",
   "execution_count": 4,
   "id": "30efcb8f",
   "metadata": {},
   "outputs": [
    {
     "name": "stdout",
     "output_type": "stream",
     "text": [
      "1\n"
     ]
    }
   ],
   "source": [
    "#9(Evaluating)\n",
    "x=5%2\n",
    "print(x)"
   ]
  },
  {
   "cell_type": "code",
   "execution_count": 52,
   "id": "dca1d928",
   "metadata": {},
   "outputs": [
    {
     "data": {
      "text/plain": [
       "set"
      ]
     },
     "execution_count": 52,
     "metadata": {},
     "output_type": "execute_result"
    }
   ],
   "source": [
    "#10\n",
    "x={5, 2 ,1}\n",
    "type(x)"
   ]
  },
  {
   "cell_type": "code",
   "execution_count": 53,
   "id": "b330daeb",
   "metadata": {},
   "outputs": [
    {
     "data": {
      "text/plain": [
       "bool"
      ]
     },
     "execution_count": 53,
     "metadata": {},
     "output_type": "execute_result"
    }
   ],
   "source": [
    "#11\n",
    "x=5 == 3\n",
    "type(x)"
   ]
  },
  {
   "cell_type": "code",
   "execution_count": 5,
   "id": "d566180e",
   "metadata": {},
   "outputs": [
    {
     "name": "stdout",
     "output_type": "stream",
     "text": [
      "False\n"
     ]
    }
   ],
   "source": [
    "#11(Evaluating)\n",
    "x =5==3\n",
    "print(x)"
   ]
  },
  {
   "cell_type": "code",
   "execution_count": 54,
   "id": "cf734cb5",
   "metadata": {},
   "outputs": [
    {
     "data": {
      "text/plain": [
       "float"
      ]
     },
     "execution_count": 54,
     "metadata": {},
     "output_type": "execute_result"
    }
   ],
   "source": [
    "#12\n",
    "x=3.141592653589793238462643\n",
    "type(x)"
   ]
  },
  {
   "cell_type": "markdown",
   "id": "c2cf0bba",
   "metadata": {},
   "source": [
    "# Question 2:Write (and evaluate) python expressions that answer these questions:\n"
   ]
  },
  {
   "cell_type": "code",
   "execution_count": 18,
   "id": "7e95533a",
   "metadata": {},
   "outputs": [
    {
     "name": "stdout",
     "output_type": "stream",
     "text": [
      "34\n"
     ]
    }
   ],
   "source": [
    "#a How many letters are there in 'Supercalifragilisticexpialidocious'?\n",
    "\n",
    "print(len(\"Supercalifragilisticexpialidocious\"))"
   ]
  },
  {
   "cell_type": "code",
   "execution_count": 21,
   "id": "815d2b47",
   "metadata": {},
   "outputs": [
    {
     "name": "stdout",
     "output_type": "stream",
     "text": [
      "Yes, SubString is present in String\n"
     ]
    }
   ],
   "source": [
    "#b Does 'Supercalifragilisticexpialidocious' contain 'ice' as a substring?\n",
    "\n",
    "Question=\"Supercalifragilisticexpialidocious\"\n",
    "SubString=\"ice\"\n",
    "\n",
    "if SubString in Question:\n",
    "    print(\"Yes, SubString is present in String\")\n",
    "else:\n",
    "    print(\"No, SubString is not present in String\")"
   ]
  },
  {
   "cell_type": "code",
   "execution_count": 10,
   "id": "59938c5f",
   "metadata": {},
   "outputs": [
    {
     "name": "stdout",
     "output_type": "stream",
     "text": [
      "Supercalifragilisticexpialidocious and Bababadalgharaghtakamminarronnkonn are longest\n"
     ]
    }
   ],
   "source": [
    "#c Which of the following words is the longest:Supercalifragilisticexpialidocious, Honorificabilitudinitatibus, or Bababadalgharaghtakamminarronnkonn? \n",
    "\n",
    "Word1=\"Supercalifragilisticexpialidocious\"\n",
    "Word2=\"Honorificabilitudinitatibus\"\n",
    "Word3=\"Bababadalgharaghtakamminarronnkonn\"\n",
    "\n",
    "Length1=len(Word1)\n",
    "Length2=len(Word2)\n",
    "Length3=len(Word3)\n",
    "\n",
    "if(Length1 > Length2) and (Length1 > Length3):\n",
    "    print(Word1,\" is the longest word\")\n",
    "elif(Length2 > Length3) and (Length2 > Length1):\n",
    "    print(Word2,\" is the longest word\")\n",
    "elif(Length3 > Length1) and (Length3 > Length2):\n",
    "    print(Word3,\" is the longest word\")\n",
    "elif(Length1==Length2) and (Length1>Length3):\n",
    "    print(Word1,\"and\",Word2,\"are longest\")\n",
    "elif(Length1==Length3) and (Length1>Length2):\n",
    "    print(Word1,\"and\",Word3,\"are longest\")\n",
    "elif(Length2==Length3 and (Length2>Length1)):\n",
    "    print(Word2, \"and\",Word3,\"are longest\")\n",
    "else:\n",
    "    print(\"All words are of equal length and all are longest\")\n"
   ]
  },
  {
   "cell_type": "code",
   "execution_count": 82,
   "id": "275a7cf4",
   "metadata": {},
   "outputs": [
    {
     "name": "stdout",
     "output_type": "stream",
     "text": [
      "['Bartok', 'Bellini', 'Berlioz', 'Bernstein', 'Borodin', 'Brian', 'Buxtehude']\n",
      "Bartok comes first in the dictionary\n",
      "Buxtehude comes last in the dictionary\n"
     ]
    }
   ],
   "source": [
    "#d Which composer comes first in the dictionary: 'Berlioz', 'Borodin', 'Brian', 'Bartok', 'Bellini', 'Buxtehude', 'Bernstein'. Which one comes last?\n",
    "\n",
    "Composer = ['Berlioz', 'Borodin', 'Brian', 'Bartok', 'Bellini', 'Buxtehude', 'Bernstein']\n",
    "Composer.sort()\n",
    "Length=len(Composer)\n",
    "print(Composer)\n",
    "print(Composer[0] + \" comes first in the dictionary\")\n",
    "print(Composer[Length-1] + \" comes last in the dictionary\")"
   ]
  },
  {
   "cell_type": "markdown",
   "id": "fcc887ef",
   "metadata": {},
   "source": [
    "# Question 3:Implement function triangleArea(a,b,c) that takes as input lengths of the 3 sides of a triangle and returns the area of the triangle. By Heron's formula, the area of a triangle with side lengths a, b, and c is s(s - a)(s -b)(s -c) , where s = (a+b+c)/2"
   ]
  },
  {
   "cell_type": "code",
   "execution_count": 46,
   "id": "93177df0",
   "metadata": {},
   "outputs": [
    {
     "name": "stdout",
     "output_type": "stream",
     "text": [
      "Enter the length of side a 2\n",
      "Enter the length of side b 2\n",
      "Enter the length of side c 2\n",
      "1.7320508075688772\n"
     ]
    }
   ],
   "source": [
    "import math\n",
    "def triangleArea(a,b,c):\n",
    "    s=float((a+b+c)/2)\n",
    "    Area_of_Triangle=float(math.sqrt((s * (s-a) * (s-b) * (s-c))))\n",
    "    print(Area_of_Triangle)\n",
    "Length_a=int(input(\"Enter the length of side a \"))\n",
    "Length_b=int(input(\"Enter the length of side b \"))\n",
    "Length_c=int(input(\"Enter the length of side c \"))\n",
    "triangleArea(Length_a,Length_b,Length_c)"
   ]
  },
  {
   "cell_type": "markdown",
   "id": "357878cb",
   "metadata": {},
   "source": [
    "# Question 4:Write a program in python to separate odd and even integers in separate arrays."
   ]
  },
  {
   "cell_type": "code",
   "execution_count": 68,
   "id": "a6121e15",
   "metadata": {},
   "outputs": [
    {
     "name": "stdout",
     "output_type": "stream",
     "text": [
      "Input the number of elements to be stored in the array :5\n",
      "element - 0 : 25\n",
      "element - 1 : 47\n",
      "element - 2 : 42\n",
      "element - 3 : 56\n",
      "element - 4 : 32\n",
      "The Even elements are:\n",
      "42 56 32 \n",
      "The Odd elements are:\n",
      "25 47 "
     ]
    }
   ],
   "source": [
    "Number_of_elements=int(input(\"Input the number of elements to be stored in the array :\"))\n",
    "odd_numbers=[]\n",
    "even_numbers=[]\n",
    "element_array=[]\n",
    "\n",
    "for i in range(Number_of_elements):\n",
    "    var = int(input(\"element - {} : \".format(i)))\n",
    "    element_array.append(var)\n",
    "    if var % 2==0:\n",
    "        even_numbers.append(var)\n",
    "    else:\n",
    "        odd_numbers.append(var)\n",
    "        \n",
    "print(\"The Even elements are:\")\n",
    "for i in even_numbers:\n",
    "    print(i,end=' ')\n",
    "print(\"\\nThe Odd elements are:\")\n",
    "for i in odd_numbers:\n",
    "    print(i,end=' ')"
   ]
  },
  {
   "cell_type": "markdown",
   "id": "956a0eb3",
   "metadata": {},
   "source": [
    "## Question 5:"
   ]
  },
  {
   "cell_type": "code",
   "execution_count": 73,
   "id": "fa41e444",
   "metadata": {},
   "outputs": [
    {
     "data": {
      "text/plain": [
       "True"
      ]
     },
     "execution_count": 73,
     "metadata": {},
     "output_type": "execute_result"
    }
   ],
   "source": [
    "#a Write a function inside(x,y,x1,y1,x2,y2) that returns True or False depending on whether the point (x,y) lies in the rectangle with lower left corner (x1,y1) and upper right corner (x2,y2). \n",
    "\n",
    "def inside(x,y,x1,y1,x2,y2):\n",
    "    if (x1<x) and (x<x2) and (y1<y) and (y<y2):\n",
    "        return True\n",
    "    else:\n",
    "        return False\n",
    "    \n",
    "inside(1,1,0,0,2,3)\n"
   ]
  },
  {
   "cell_type": "code",
   "execution_count": 75,
   "id": "f324c0d9",
   "metadata": {},
   "outputs": [
    {
     "data": {
      "text/plain": [
       "False"
      ]
     },
     "execution_count": 75,
     "metadata": {},
     "output_type": "execute_result"
    }
   ],
   "source": [
    "#Using Inside function\n",
    "    \n",
    "inside(-1,-1,0,0,2,3)"
   ]
  },
  {
   "cell_type": "code",
   "execution_count": 76,
   "id": "bd25fb7d",
   "metadata": {},
   "outputs": [
    {
     "name": "stdout",
     "output_type": "stream",
     "text": [
      "False\n"
     ]
    }
   ],
   "source": [
    "#b Use function inside() from part a. to write an expression that tests whether the point (1,1) lies in both of the following rectangles: one with lower lefcorner (0.3, 0.5) and upper right corner (1.1, 0.7) and the other with lower left corner (0.5, 0.2) and upper right corner (1.1, 2). \n",
    "\n",
    "#Using the inside function from Part(a) of the same question\n",
    "\n",
    "def inside(x,y,x1,y1,x2,y2):\n",
    "    if (x1<x) and (x<x2) and (y1<y) and (y<y2):\n",
    "        return True\n",
    "    else:\n",
    "        return False;\n",
    "\n",
    "x=1\n",
    "y=1\n",
    "Point1_lies=inside(x,y,0.3,0.5,1.1,0.7) #Checking point lies in first rectangle or not\n",
    "Point2_lies=inside(x,y,0.5,0.2,1.1,2)   #Checking point lies in second rectangle or not\n",
    "Final_lies=Point1_lies and Point2_lies \n",
    "print(Final_lies)\n"
   ]
  },
  {
   "cell_type": "markdown",
   "id": "01d47ca2",
   "metadata": {},
   "source": [
    "## Question 6:"
   ]
  },
  {
   "cell_type": "code",
   "execution_count": 77,
   "id": "346e1c67",
   "metadata": {},
   "outputs": [
    {
     "name": "stdout",
     "output_type": "stream",
     "text": [
      "appyhay\n",
      "enterway\n"
     ]
    }
   ],
   "source": [
    "Vowel_letters=[\"a\",\"e\",\"i\",\"o\",\"u\"]\n",
    "\n",
    "def pig(input):\n",
    "    if(input[0].lower() in Vowel_letters):\n",
    "        return (input.lower()+\"way\")\n",
    "    else:\n",
    "        return (input[1:].lower() + input[0].lower() + \"ay\")\n",
    "        \n",
    "Ans1=pig('happy')\n",
    "print(Ans1)\n",
    "Ans2=pig('Enter')\n",
    "print(Ans2)"
   ]
  },
  {
   "cell_type": "markdown",
   "id": "30735fe1",
   "metadata": {},
   "source": [
    "## Question 7:File bloodtype1.txt records blood-types of patients (A, B, AB, O or OO) at a clinic.Write a function bldcount() that reads the file with name name and reports (i.e.,prints) how many patients there are in each bloodtype."
   ]
  },
  {
   "cell_type": "code",
   "execution_count": 23,
   "id": "370d4bc0",
   "metadata": {},
   "outputs": [
    {
     "name": "stdout",
     "output_type": "stream",
     "text": [
      "There are 15 patients of blood type A.\n",
      "There is one patient of blood type B.\n",
      "There are 13 patients of blood type AB.\n",
      "There are 15 patients of blood type O.\n",
      "There are no patients of blood type OO.\n"
     ]
    }
   ],
   "source": [
    "def bldcount(bloodtype1):\n",
    "    Contents=open(\"bloodtype1.txt\",\"r\")   #Opens internally stored file->bloodtype1.txt\n",
    "    Blood_Groups=Contents.readline()      #Reading the entire line \n",
    "    \n",
    "    Blood_Types= [\"A\", \"B\", \"AB\", \"O\", \"OO\"]\n",
    "    \n",
    "    lst=[]\n",
    "    lst.append(Blood_Groups.split(\" \"))  #Here we are splitting the blood groups and are storing them in a list\n",
    "    \n",
    "    for blood_type in Blood_Types:\n",
    "        if(lst[0].count(blood_type))>1:\n",
    "            print(\"There are {} patients of blood type {}.\".format(lst[0].count(blood_type),blood_type))\n",
    "        elif(lst[0].count(blood_type)==1):\n",
    "            print(\"There is one patient of blood type {}.\".format(blood_type))\n",
    "        else:\n",
    "            print(\"There are no patients of blood type {}.\".format(blood_type))\n",
    "        \n",
    "bldcount(\"bloodtype1.txt\")"
   ]
  },
  {
   "cell_type": "markdown",
   "id": "34b2eb80",
   "metadata": {},
   "source": [
    "## Question 8:Write a function curconv() that takes as input: 1. a currency represented using a string (e.g., 'JPY' for the Japanese Yen or 'EUR' for the Euro) 2. an amount and then converts and returns the amount in US dollars."
   ]
  },
  {
   "cell_type": "code",
   "execution_count": 11,
   "id": "9cfefaa9",
   "metadata": {},
   "outputs": [
    {
     "name": "stdout",
     "output_type": "stream",
     "text": [
      "122.96544\n",
      "1.241401\n"
     ]
    }
   ],
   "source": [
    "def curconv(currency,value):\n",
    "    Currency_value=open(\"currencies.txt\",\"r\")              #Opens internally stored file->currencies.txt\n",
    "    Read_file=Currency_value.readlines()                   #Reading the file\n",
    "  \n",
    "    for Currency_value in Read_file:\n",
    "        field=Currency_value.split()              \n",
    "        if currency == field[0]:                           #Checking which currency we need to convert into US Dollars\n",
    "            Currency_Converter=float(field[1])\n",
    "            Converted_value= value* Currency_Converter\n",
    "    \n",
    "    return Converted_value\n",
    "\n",
    "Value1=curconv('EUR',100)\n",
    "Value2=curconv('JPY',100)\n",
    "print(Value1)\n",
    "print(Value2)"
   ]
  },
  {
   "cell_type": "markdown",
   "id": "f329f2c3",
   "metadata": {},
   "source": [
    "## Question 9:Each of the following will cause an exception (an error). Identify what type of exception each will cause."
   ]
  },
  {
   "cell_type": "code",
   "execution_count": 25,
   "id": "1ef86b36",
   "metadata": {},
   "outputs": [
    {
     "ename": "TypeError",
     "evalue": "unsupported operand type(s) for +: 'int' and 'str'",
     "output_type": "error",
     "traceback": [
      "\u001b[1;31m---------------------------------------------------------------------------\u001b[0m",
      "\u001b[1;31mTypeError\u001b[0m                                 Traceback (most recent call last)",
      "\u001b[1;32m~\\AppData\\Local\\Temp\\ipykernel_26696\\2418977417.py\u001b[0m in \u001b[0;36m<module>\u001b[1;34m\u001b[0m\n\u001b[0;32m      1\u001b[0m \u001b[1;31m#1 Trying to add incompatible variables, as in adding 6 + ‘a’\u001b[0m\u001b[1;33m\u001b[0m\u001b[1;33m\u001b[0m\u001b[0m\n\u001b[0;32m      2\u001b[0m \u001b[1;33m\u001b[0m\u001b[0m\n\u001b[1;32m----> 3\u001b[1;33m \u001b[1;36m6\u001b[0m \u001b[1;33m+\u001b[0m \u001b[1;34m'a'\u001b[0m\u001b[1;33m\u001b[0m\u001b[1;33m\u001b[0m\u001b[0m\n\u001b[0m\u001b[0;32m      4\u001b[0m \u001b[1;33m\u001b[0m\u001b[0m\n\u001b[0;32m      5\u001b[0m \u001b[1;31m#Error:Type Error\u001b[0m\u001b[1;33m\u001b[0m\u001b[1;33m\u001b[0m\u001b[0m\n",
      "\u001b[1;31mTypeError\u001b[0m: unsupported operand type(s) for +: 'int' and 'str'"
     ]
    }
   ],
   "source": [
    "#1 Trying to add incompatible variables, as in adding 6 + ‘a’\n",
    "\n",
    "6 + 'a'\n",
    "\n",
    "#Error:TypeError\n",
    "# Explanation:This is an unsupported operand type error where 'integer' and 'string' cannot be added as they are different data types"
   ]
  },
  {
   "cell_type": "code",
   "execution_count": 25,
   "id": "f5281691",
   "metadata": {},
   "outputs": [
    {
     "ename": "IndexError",
     "evalue": "list index out of range",
     "output_type": "error",
     "traceback": [
      "\u001b[1;31m---------------------------------------------------------------------------\u001b[0m",
      "\u001b[1;31mIndexError\u001b[0m                                Traceback (most recent call last)",
      "\u001b[1;32m~\\AppData\\Local\\Temp\\ipykernel_6452\\2251516117.py\u001b[0m in \u001b[0;36m<module>\u001b[1;34m\u001b[0m\n\u001b[0;32m      1\u001b[0m \u001b[1;31m#2 Referring to the 12th item of a list that has only 10 items\u001b[0m\u001b[1;33m\u001b[0m\u001b[1;33m\u001b[0m\u001b[0m\n\u001b[0;32m      2\u001b[0m \u001b[0mlst\u001b[0m\u001b[1;33m=\u001b[0m\u001b[1;33m[\u001b[0m\u001b[1;36m0\u001b[0m\u001b[1;33m,\u001b[0m\u001b[1;36m1\u001b[0m\u001b[1;33m,\u001b[0m\u001b[1;36m2\u001b[0m\u001b[1;33m,\u001b[0m\u001b[1;36m3\u001b[0m\u001b[1;33m,\u001b[0m\u001b[1;36m4\u001b[0m\u001b[1;33m,\u001b[0m\u001b[1;36m5\u001b[0m\u001b[1;33m,\u001b[0m\u001b[1;36m6\u001b[0m\u001b[1;33m,\u001b[0m\u001b[1;36m7\u001b[0m\u001b[1;33m,\u001b[0m\u001b[1;36m8\u001b[0m\u001b[1;33m,\u001b[0m\u001b[1;36m9\u001b[0m\u001b[1;33m]\u001b[0m\u001b[1;33m\u001b[0m\u001b[1;33m\u001b[0m\u001b[0m\n\u001b[1;32m----> 3\u001b[1;33m \u001b[0mprint\u001b[0m\u001b[1;33m[\u001b[0m\u001b[0mlst\u001b[0m\u001b[1;33m[\u001b[0m\u001b[1;36m12\u001b[0m\u001b[1;33m]\u001b[0m\u001b[1;33m]\u001b[0m\u001b[1;33m\u001b[0m\u001b[1;33m\u001b[0m\u001b[0m\n\u001b[0m",
      "\u001b[1;31mIndexError\u001b[0m: list index out of range"
     ]
    }
   ],
   "source": [
    "#2 Referring to the 12th item of a list that has only 10 items\n",
    "lst=[0,1,2,3,4,5,6,7,8,9]\n",
    "print[lst[12]]\n",
    "\n",
    "#Error:IndexError\n",
    "# Explanation:This is 'out of index' type of error where a list has only 10 elements but we are trying to access 12th element which is not in the list"
   ]
  },
  {
   "cell_type": "code",
   "execution_count": 26,
   "id": "c8988c8a",
   "metadata": {},
   "outputs": [
    {
     "ename": "ValueError",
     "evalue": "math domain error",
     "output_type": "error",
     "traceback": [
      "\u001b[1;31m---------------------------------------------------------------------------\u001b[0m",
      "\u001b[1;31mValueError\u001b[0m                                Traceback (most recent call last)",
      "\u001b[1;32m~\\AppData\\Local\\Temp\\ipykernel_26696\\2753997475.py\u001b[0m in \u001b[0;36m<module>\u001b[1;34m\u001b[0m\n\u001b[0;32m      2\u001b[0m \u001b[1;33m\u001b[0m\u001b[0m\n\u001b[0;32m      3\u001b[0m \u001b[1;32mimport\u001b[0m \u001b[0mmath\u001b[0m\u001b[1;33m\u001b[0m\u001b[1;33m\u001b[0m\u001b[0m\n\u001b[1;32m----> 4\u001b[1;33m \u001b[0mprint\u001b[0m\u001b[1;33m(\u001b[0m\u001b[0mmath\u001b[0m\u001b[1;33m.\u001b[0m\u001b[0msqrt\u001b[0m\u001b[1;33m(\u001b[0m\u001b[1;33m-\u001b[0m\u001b[1;36m1.0\u001b[0m\u001b[1;33m)\u001b[0m\u001b[1;33m)\u001b[0m\u001b[1;33m\u001b[0m\u001b[1;33m\u001b[0m\u001b[0m\n\u001b[0m\u001b[0;32m      5\u001b[0m \u001b[1;33m\u001b[0m\u001b[0m\n\u001b[0;32m      6\u001b[0m \u001b[1;31m# Explanation:It is a domain error , here specifically math domain error where values are out of the domains of the function listed.\u001b[0m\u001b[1;33m\u001b[0m\u001b[1;33m\u001b[0m\u001b[0m\n",
      "\u001b[1;31mValueError\u001b[0m: math domain error"
     ]
    }
   ],
   "source": [
    "#3 Using a value that is out of range for a function’s input, such as calling math.sqrt(-1.0)\n",
    "\n",
    "import math\n",
    "print(math.sqrt(-1.0))\n",
    "\n",
    "#Error:ValueError\n",
    "# Explanation:It is a domain error , here specifically math domain error where values are out of the domains of the function listed."
   ]
  },
  {
   "cell_type": "code",
   "execution_count": 29,
   "id": "1e01484d",
   "metadata": {},
   "outputs": [
    {
     "ename": "NameError",
     "evalue": "name 'myname' is not defined",
     "output_type": "error",
     "traceback": [
      "\u001b[1;31m---------------------------------------------------------------------------\u001b[0m",
      "\u001b[1;31mNameError\u001b[0m                                 Traceback (most recent call last)",
      "\u001b[1;32m~\\AppData\\Local\\Temp\\ipykernel_6452\\1045083198.py\u001b[0m in \u001b[0;36m<module>\u001b[1;34m\u001b[0m\n\u001b[0;32m      1\u001b[0m \u001b[1;31m#4 Using an undeclared variable, such as print(x) when x has not been defined\u001b[0m\u001b[1;33m\u001b[0m\u001b[1;33m\u001b[0m\u001b[0m\n\u001b[0;32m      2\u001b[0m \u001b[1;33m\u001b[0m\u001b[0m\n\u001b[1;32m----> 3\u001b[1;33m \u001b[0mprint\u001b[0m\u001b[1;33m(\u001b[0m\u001b[0mmyname\u001b[0m\u001b[1;33m)\u001b[0m\u001b[1;33m\u001b[0m\u001b[1;33m\u001b[0m\u001b[0m\n\u001b[0m",
      "\u001b[1;31mNameError\u001b[0m: name 'myname' is not defined"
     ]
    }
   ],
   "source": [
    "#4 Using an undeclared variable, such as print(x) when x has not been defined \n",
    "\n",
    "print(myname)\n",
    "\n",
    "#Error:NameError\n",
    "#Explanation:Here it is a variable not defined error. We have not defined the 'myname' variable,so we cannot use it."
   ]
  },
  {
   "cell_type": "code",
   "execution_count": 30,
   "id": "1de26e44",
   "metadata": {},
   "outputs": [
    {
     "ename": "FileNotFoundError",
     "evalue": "[Errno 2] No such file or directory: 'bloodtypeee1.txt'",
     "output_type": "error",
     "traceback": [
      "\u001b[1;31m---------------------------------------------------------------------------\u001b[0m",
      "\u001b[1;31mFileNotFoundError\u001b[0m                         Traceback (most recent call last)",
      "\u001b[1;32m~\\AppData\\Local\\Temp\\ipykernel_6452\\3558973345.py\u001b[0m in \u001b[0;36m<module>\u001b[1;34m\u001b[0m\n\u001b[0;32m      1\u001b[0m \u001b[1;31m#5 Trying to open a file that does not exist, such as mistyping the file name or looking in the wrong directory.\u001b[0m\u001b[1;33m\u001b[0m\u001b[1;33m\u001b[0m\u001b[0m\n\u001b[0;32m      2\u001b[0m \u001b[1;33m\u001b[0m\u001b[0m\n\u001b[1;32m----> 3\u001b[1;33m \u001b[0mContents\u001b[0m\u001b[1;33m=\u001b[0m\u001b[0mopen\u001b[0m\u001b[1;33m(\u001b[0m\u001b[1;34m\"bloodtypeee1.txt\"\u001b[0m\u001b[1;33m,\u001b[0m\u001b[1;34m\"r\"\u001b[0m\u001b[1;33m)\u001b[0m\u001b[1;33m\u001b[0m\u001b[1;33m\u001b[0m\u001b[0m\n\u001b[0m",
      "\u001b[1;31mFileNotFoundError\u001b[0m: [Errno 2] No such file or directory: 'bloodtypeee1.txt'"
     ]
    }
   ],
   "source": [
    "#5 Trying to open a file that does not exist, such as mistyping the file name or looking in the wrong directory. \n",
    "\n",
    "Contents=open(\"bloodtypeee1.txt\",\"r\")\n",
    "\n",
    "#Error:FileNotFoundError\n",
    "# Explanation:As there us no file name 'bloodtypeee1', it shows the error as 'No such file or directory:filename' because no file of this name exits."
   ]
  },
  {
   "cell_type": "markdown",
   "id": "addf6cce",
   "metadata": {},
   "source": [
    "## Question 10:"
   ]
  },
  {
   "cell_type": "code",
   "execution_count": 23,
   "id": "d384eef9",
   "metadata": {},
   "outputs": [
    {
     "name": "stdout",
     "output_type": "stream",
     "text": [
      "[1, 1, 1, 3, 5, 1, 1, 2, 1, 0, 1, 0, 1, 2, 4, 0, 1, 2, 0, 2, 1, 0, 1, 1, 0, 0]\n",
      "[1, 0, 0, 0, 1, 0, 0, 0, 0, 0, 0, 1, 0, 0, 0, 2, 0, 0, 0, 0, 0, 0, 0, 0, 0, 0]\n"
     ]
    }
   ],
   "source": [
    "def frequencies(input_text):\n",
    "    \n",
    "    letters='abcdefghijklmnopqrstuvwxyz'\n",
    "    Length_alphabets=len(letters)                         \n",
    "    Final_count = {}                                         #Declaring a dictionary to store the occurences\n",
    "    \n",
    "               \n",
    "    for i in letters:                                         \n",
    "        if i in input_text:                                   #Checking if these characters are present in the input text\n",
    "            Final_count[i]=input_text.count(i)\n",
    "        else:\n",
    "            Final_count[i]=0\n",
    "            \n",
    "    return list(Final_count.values())                        #Returning back the list of integers showing the occurences of letters\n",
    "                \n",
    "\n",
    "lst1=frequencies('The quick red fox got bored and went home.')\n",
    "lst2=frequencies('apple')\n",
    "\n",
    "print(lst1)\n",
    "print(lst2)\n",
    " \n"
   ]
  }
 ],
 "metadata": {
  "kernelspec": {
   "display_name": "Python 3 (ipykernel)",
   "language": "python",
   "name": "python3"
  },
  "language_info": {
   "codemirror_mode": {
    "name": "ipython",
    "version": 3
   },
   "file_extension": ".py",
   "mimetype": "text/x-python",
   "name": "python",
   "nbconvert_exporter": "python",
   "pygments_lexer": "ipython3",
   "version": "3.9.13"
  }
 },
 "nbformat": 4,
 "nbformat_minor": 5
}
